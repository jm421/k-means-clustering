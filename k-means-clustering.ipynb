{
 "cells": [
  {
   "cell_type": "markdown",
   "metadata": {},
   "source": [
    "# University of Exeter\n",
    "## College of Engineering, Mathematics and Physical  Sciences\n",
    "### ECM3420 - Learning From Data\n",
    "\n",
    "#### Coursework 2 - Clustering"
   ]
  },
  {
   "cell_type": "markdown",
   "metadata": {},
   "source": [
    "### Candidate number: 670021141"
   ]
  },
  {
   "cell_type": "markdown",
   "metadata": {},
   "source": [
    "## Task 1"
   ]
  },
  {
   "cell_type": "code",
   "execution_count": 1,
   "metadata": {},
   "outputs": [],
   "source": [
    "import numpy as np\n",
    "import random\n"
   ]
  },
  {
   "cell_type": "code",
   "execution_count": 2,
   "metadata": {},
   "outputs": [],
   "source": [
    "\"\"\"\n",
    "\n",
    "Choose k unique initial centroids from x.\n",
    "\n",
    "\"\"\"\n",
    "def initialise_centroids(x, k, random_state=None):\n",
    "    centroids = []\n",
    "\n",
    "    # Choose k random unique points for initial centroids\n",
    "    if random_state:\n",
    "        random.seed(random_state)\n",
    "\n",
    "    return random.sample(list(x),k)\n"
   ]
  },
  {
   "cell_type": "code",
   "execution_count": 3,
   "metadata": {},
   "outputs": [],
   "source": [
    "\"\"\"\n",
    "\n",
    "Calculate Euclidean distance between point_1 and point_2.\n",
    "\n",
    "\"\"\"\n",
    "def euclidian_distance(point_1, point_2):\n",
    "    # return np.sqrt(sum([np.square(point_1[x] - point_2[x]) for x in range(length)]))\n",
    "    return sum((p1 - p2) ** 2 for p1, p2 in zip(point_1, point_2)) ** 0.5\n",
    "\n"
   ]
  },
  {
   "cell_type": "code",
   "execution_count": 4,
   "metadata": {},
   "outputs": [],
   "source": [
    "\"\"\"\n",
    "\n",
    "Find the closest centroid to a given point.\n",
    "\n",
    "\"\"\"\n",
    "def choose_best_cluster(point, centroids):\n",
    "    distances = {}\n",
    "    \n",
    "    # Construct index to distance mapping\n",
    "    key = 0\n",
    "    for centroid in centroids:\n",
    "        distances[key] = euclidian_distance(point, centroid)\n",
    "        key += 1\n",
    "    \n",
    "    # Return index with shortest distnace\n",
    "    return min(distances, key=distances.get)\n"
   ]
  },
  {
   "cell_type": "code",
   "execution_count": 5,
   "metadata": {},
   "outputs": [],
   "source": [
    "\"\"\"\n",
    "\n",
    "Return the cluster index that a given point belongs to.\n",
    "\n",
    "\"\"\"\n",
    "def obtain_cluster(point, clusters):\n",
    "    # Unpack the dictionary\n",
    "    for key, points in clusters.items():\n",
    "        # Check if the point belongs to the cluster\n",
    "        for p in points:\n",
    "            if np.array_equal(p, point):\n",
    "                return key\n"
   ]
  },
  {
   "cell_type": "code",
   "execution_count": 6,
   "metadata": {},
   "outputs": [],
   "source": [
    "\"\"\"\n",
    "\n",
    "Update a centroid (specified by key) in the centroid list (centroids), based on its corresponding points in\n",
    "the clusters dictionary.\n",
    "\n",
    "\"\"\"\n",
    "def update_centroid(key, centroids, clusters):\n",
    "    centroids[key] = np.mean(clusters[key], axis=0)\n"
   ]
  },
  {
   "cell_type": "code",
   "execution_count": 7,
   "metadata": {},
   "outputs": [],
   "source": [
    "\"\"\"\n",
    "\n",
    "Incremental KMeans Algorithm.\n",
    "\n",
    "\"\"\" \n",
    "def incremental_kmeans(x, k, max_itr=100, random_state=None):\n",
    "    full_iterations = 1\n",
    "    clusters = {}\n",
    "    cluster_labels = []\n",
    "    centroid_updated = True\n",
    "\n",
    "    # Choose random centroids, initialise clusters\n",
    "    centroids = initialise_centroids(x, k, random_state)\n",
    "    \n",
    "    # For each data point, find nearest cluster and update centroid\n",
    "    for point in x:\n",
    "        \n",
    "        # Find nearest cluster\n",
    "        best_cluster_key = choose_best_cluster(point, centroids)\n",
    "        \n",
    "        # Update nearest cluster\n",
    "        if best_cluster_key not in clusters:\n",
    "            clusters.update({best_cluster_key:[point]})\n",
    "        else:\n",
    "            clusters[best_cluster_key].append(point)\n",
    "            \n",
    "        update_centroid(best_cluster_key, centroids, clusters)\n",
    "        \n",
    "        # Update output\n",
    "        cluster_labels.append(best_cluster_key)\n",
    "    \n",
    "    full_iterations += 1\n",
    "\n",
    "    \n",
    "    # Remaining iterations\n",
    "    while centroid_updated and full_iterations < max_itr:\n",
    "        \n",
    "        centroid_updated = False\n",
    "        original_centroids = centroids.copy()\n",
    "        \n",
    "        index = 0\n",
    "        for point in x:\n",
    "            # Obtain current cluster\n",
    "            current_cluster_key = obtain_cluster(point, clusters)\n",
    "\n",
    "            # Calculate nearest cluster\n",
    "            best_cluster_key = choose_best_cluster(point, centroids)\n",
    "\n",
    "            # If the clusters are different, re-assign\n",
    "            if current_cluster_key != best_cluster_key:\n",
    "                \n",
    "                # Remove from current cluster and update its centroid\n",
    "                i = 0\n",
    "                size = len(clusters[current_cluster_key])\n",
    "                while i < size:\n",
    "                    if np.array_equal(clusters[current_cluster_key][i], point):\n",
    "                        del clusters[current_cluster_key][i]\n",
    "                        break\n",
    "                    i += 1\n",
    "                update_centroid(current_cluster_key, centroids, clusters)\n",
    "\n",
    "                # Add to new cluster and update its centroid\n",
    "                clusters[best_cluster_key].append(point)\n",
    "                update_centroid(best_cluster_key, centroids,  clusters)\n",
    "\n",
    "                # Update output\n",
    "                cluster_labels[index] = best_cluster_key\n",
    "            \n",
    "            index += 1\n",
    "\n",
    "        # Update stopping condition\n",
    "        if not np.array_equal(original_centroids, centroids):\n",
    "            centroid_updated = True\n",
    "\n",
    "        full_iterations += 1\n",
    "        \n",
    "    \n",
    "    cluster_labels = np.array(cluster_labels)\n",
    "    \n",
    "    return cluster_labels, full_iterations\n"
   ]
  },
  {
   "cell_type": "markdown",
   "metadata": {},
   "source": [
    "## Task 2"
   ]
  },
  {
   "cell_type": "code",
   "execution_count": 8,
   "metadata": {},
   "outputs": [],
   "source": [
    "%matplotlib inline\n",
    "import matplotlib.pyplot as plt\n",
    "import pandas as pd\n",
    "import time\n",
    "from sklearn.datasets import load_iris\n",
    "from sklearn.cluster import KMeans\n",
    "from sklearn.preprocessing import StandardScaler\n"
   ]
  },
  {
   "cell_type": "code",
   "execution_count": 9,
   "metadata": {},
   "outputs": [],
   "source": [
    "\"\"\"\n",
    "\n",
    "Perform runtime analysis. \n",
    "Returns a Dataframe for each KMeans Algorithm, and data for the Incremental KMeans boxplot (runtime distributions).\n",
    "\n",
    "\"\"\"\n",
    "\n",
    "def runtime_analysis(data, k_values, m):\n",
    "    \n",
    "    # Preprocessing\n",
    "    sc = StandardScaler()\n",
    "    sc.fit(data)\n",
    "    data = sc.transform(data)\n",
    "    \n",
    "    # Prepare dataframes and boxplot data\n",
    "    kmeans_df = pd.DataFrame(columns=['Standard KMeans','K=2','K=3','K=4','K=5'], index=['Average Time','Average Iterations'])\n",
    "    kmeans_incr_df = pd.DataFrame(columns=['Incremental KMeans','K=2','K=3','K=4','K=5'], index=['Average Time','Average Iterations'])\n",
    "    boxplot_data = []\n",
    "    \n",
    "    # Perform experiment and store results...\n",
    "    random_state = 0\n",
    "    kmeans_avg_times = []\n",
    "    kmeans_avg_iters = []\n",
    "    kmeans_incr_avg_times = []\n",
    "    kmeans_incr_avg_iters = []\n",
    "    \n",
    "    for k in k_values:\n",
    "        \n",
    "        kmeans_time = []\n",
    "        kmeans_iter = []\n",
    "        kmeans_incr_time = []\n",
    "        kmeans_incr_iter = []\n",
    "        \n",
    "        for m in range(m):\n",
    "            # Standard KMeans\n",
    "            kmeans = KMeans(n_clusters = k, random_state = random_state)\n",
    "            start_time = time.time()\n",
    "            kmeans.fit(data)\n",
    "            end_time_milliseconds = (time.time() - start_time) * 1000\n",
    "            kmeans_time.append(end_time_milliseconds)\n",
    "            kmeans_iter.append(kmeans.n_iter_)\n",
    "            \n",
    "            # Incremental KMeans\n",
    "            start_time = time.time()\n",
    "            cluster_labels, full_iterations = incremental_kmeans(data, k, random_state = random_state)\n",
    "            end_time_milliseconds = (time.time() - start_time) * 1000\n",
    "            kmeans_incr_time.append(end_time_milliseconds)\n",
    "            kmeans_incr_iter.append(full_iterations)\n",
    "            \n",
    "            # Change state for next iteration\n",
    "            random_state += 1\n",
    "       \n",
    "        # Store results\n",
    "        kmeans_avg_times.append(np.mean(kmeans_time))\n",
    "        kmeans_avg_iters.append(np.mean(kmeans_iter))\n",
    "        kmeans_incr_avg_times.append(np.mean(kmeans_incr_time))\n",
    "        kmeans_incr_avg_iters.append(np.mean(kmeans_incr_iter))\n",
    "        boxplot_data.append(kmeans_incr_time)\n",
    "        \n",
    "    \n",
    "    # Populate dataframes with results\n",
    "    kmeans_df.loc['Average Time'] = pd.Series({'Standard KMeans':'Average Time', 'K=2':kmeans_avg_times[0], 'K=3':kmeans_avg_times[1], 'K=4':kmeans_avg_times[2], 'K=5':kmeans_avg_times[3]})\n",
    "    kmeans_df.loc['Average Iterations'] = pd.Series({'Standard KMeans':'Average Iterations', 'K=2':kmeans_avg_iters[0], 'K=3':kmeans_avg_iters[1], 'K=4':kmeans_avg_iters[2], 'K=5':kmeans_avg_iters[3]})\n",
    "    kmeans_incr_df.loc['Average Time'] = pd.Series({'Incremental KMeans':'Average Time', 'K=2':kmeans_incr_avg_times[0], 'K=3':kmeans_incr_avg_times[1], 'K=4':kmeans_incr_avg_times[2], 'K=5':kmeans_incr_avg_times[3]})\n",
    "    kmeans_incr_df.loc['Average Iterations'] = pd.Series({'Incremental KMeans':'Average Iterations', 'K=2':kmeans_incr_avg_iters[0], 'K=3':kmeans_incr_avg_iters[1], 'K=4':kmeans_incr_avg_iters[2], 'K=5':kmeans_incr_avg_iters[3]})\n",
    "    \n",
    "    return kmeans_df, kmeans_incr_df, boxplot_data\n"
   ]
  },
  {
   "cell_type": "code",
   "execution_count": 10,
   "metadata": {},
   "outputs": [],
   "source": [
    "\"\"\"\n",
    "Runtime Analysis\n",
    "\"\"\"\n",
    "\n",
    "x = load_iris().data\n",
    "k_values = [2, 3, 4, 5]\n",
    "m = 5\n",
    "\n",
    "# Obtain the data\n",
    "kmeans_df, kmeans_incr_df, boxplot_data = runtime_analysis(x, k_values, m)\n"
   ]
  },
  {
   "cell_type": "code",
   "execution_count": 11,
   "metadata": {},
   "outputs": [
    {
     "data": {
      "text/html": [
       "<style  type=\"text/css\" >\n",
       "</style><table id=\"T_088fc335_3991_11eb_b7a1_c82158fca03e\" ><thead>    <tr>        <th class=\"col_heading level0 col0\" >Standard KMeans</th>        <th class=\"col_heading level0 col1\" >K=2</th>        <th class=\"col_heading level0 col2\" >K=3</th>        <th class=\"col_heading level0 col3\" >K=4</th>        <th class=\"col_heading level0 col4\" >K=5</th>    </tr></thead><tbody>\n",
       "                <tr>\n",
       "                                <td id=\"T_088fc335_3991_11eb_b7a1_c82158fca03erow0_col0\" class=\"data row0 col0\" >Average Time</td>\n",
       "                        <td id=\"T_088fc335_3991_11eb_b7a1_c82158fca03erow0_col1\" class=\"data row0 col1\" >23.730183</td>\n",
       "                        <td id=\"T_088fc335_3991_11eb_b7a1_c82158fca03erow0_col2\" class=\"data row0 col2\" >27.924359</td>\n",
       "                        <td id=\"T_088fc335_3991_11eb_b7a1_c82158fca03erow0_col3\" class=\"data row0 col3\" >33.702691</td>\n",
       "                        <td id=\"T_088fc335_3991_11eb_b7a1_c82158fca03erow0_col4\" class=\"data row0 col4\" >36.608696</td>\n",
       "            </tr>\n",
       "            <tr>\n",
       "                                <td id=\"T_088fc335_3991_11eb_b7a1_c82158fca03erow1_col0\" class=\"data row1 col0\" >Average Iterations</td>\n",
       "                        <td id=\"T_088fc335_3991_11eb_b7a1_c82158fca03erow1_col1\" class=\"data row1 col1\" >3.200000</td>\n",
       "                        <td id=\"T_088fc335_3991_11eb_b7a1_c82158fca03erow1_col2\" class=\"data row1 col2\" >6.000000</td>\n",
       "                        <td id=\"T_088fc335_3991_11eb_b7a1_c82158fca03erow1_col3\" class=\"data row1 col3\" >5.000000</td>\n",
       "                        <td id=\"T_088fc335_3991_11eb_b7a1_c82158fca03erow1_col4\" class=\"data row1 col4\" >7.500000</td>\n",
       "            </tr>\n",
       "    </tbody></table>"
      ],
      "text/plain": [
       "<pandas.io.formats.style.Styler at 0x1a9cc13d9d0>"
      ]
     },
     "execution_count": 11,
     "metadata": {},
     "output_type": "execute_result"
    }
   ],
   "source": [
    "# Show the results for Standard KMeans\n",
    "kmeans_df.style.hide_index()\n"
   ]
  },
  {
   "cell_type": "code",
   "execution_count": 12,
   "metadata": {},
   "outputs": [
    {
     "data": {
      "text/html": [
       "<style  type=\"text/css\" >\n",
       "</style><table id=\"T_0892c43d_3991_11eb_8e69_c82158fca03e\" ><thead>    <tr>        <th class=\"col_heading level0 col0\" >Incremental KMeans</th>        <th class=\"col_heading level0 col1\" >K=2</th>        <th class=\"col_heading level0 col2\" >K=3</th>        <th class=\"col_heading level0 col3\" >K=4</th>        <th class=\"col_heading level0 col4\" >K=5</th>    </tr></thead><tbody>\n",
       "                <tr>\n",
       "                                <td id=\"T_0892c43d_3991_11eb_8e69_c82158fca03erow0_col0\" class=\"data row0 col0\" >Average Time</td>\n",
       "                        <td id=\"T_0892c43d_3991_11eb_8e69_c82158fca03erow0_col1\" class=\"data row0 col1\" >73.004055</td>\n",
       "                        <td id=\"T_0892c43d_3991_11eb_8e69_c82158fca03erow0_col2\" class=\"data row0 col2\" >195.456028</td>\n",
       "                        <td id=\"T_0892c43d_3991_11eb_8e69_c82158fca03erow0_col3\" class=\"data row0 col3\" >141.962449</td>\n",
       "                        <td id=\"T_0892c43d_3991_11eb_8e69_c82158fca03erow0_col4\" class=\"data row0 col4\" >225.689292</td>\n",
       "            </tr>\n",
       "            <tr>\n",
       "                                <td id=\"T_0892c43d_3991_11eb_8e69_c82158fca03erow1_col0\" class=\"data row1 col0\" >Average Iterations</td>\n",
       "                        <td id=\"T_0892c43d_3991_11eb_8e69_c82158fca03erow1_col1\" class=\"data row1 col1\" >3.400000</td>\n",
       "                        <td id=\"T_0892c43d_3991_11eb_8e69_c82158fca03erow1_col2\" class=\"data row1 col2\" >5.750000</td>\n",
       "                        <td id=\"T_0892c43d_3991_11eb_8e69_c82158fca03erow1_col3\" class=\"data row1 col3\" >4.666667</td>\n",
       "                        <td id=\"T_0892c43d_3991_11eb_8e69_c82158fca03erow1_col4\" class=\"data row1 col4\" >6.000000</td>\n",
       "            </tr>\n",
       "    </tbody></table>"
      ],
      "text/plain": [
       "<pandas.io.formats.style.Styler at 0x1a9ccd8b1f0>"
      ]
     },
     "execution_count": 12,
     "metadata": {},
     "output_type": "execute_result"
    }
   ],
   "source": [
    "# Show the results for Incremental KMeans\n",
    "kmeans_incr_df.style.hide_index()\n"
   ]
  },
  {
   "cell_type": "code",
   "execution_count": 13,
   "metadata": {},
   "outputs": [
    {
     "data": {
      "image/png": "[encoded data removed]",
      "text/plain": [
       "<Figure size 720x540 with 1 Axes>"
      ]
     },
     "metadata": {
      "needs_background": "light"
     },
     "output_type": "display_data"
    }
   ],
   "source": [
    "\"\"\"\n",
    "\n",
    "Drawing chart to show the runtime distributions of the Incremental KMeans algorithm. \n",
    "\n",
    "\"\"\"\n",
    "\n",
    "# Create figure and axes\n",
    "fig, ax = plt.subplots()\n",
    "fig.set_figheight(7.5)\n",
    "fig.set_figwidth(10)\n",
    "\n",
    "# Build boxplot with the runtime distributions data\n",
    "ax.boxplot(boxplot_data, showmeans=False, vert=False)\n",
    "\n",
    "# Set title and axes labels\n",
    "ax.set_title('Box plot showing runtime distributions of\\n different values of K with Incremental KMeans algorithm')\n",
    "ax.set_xlabel('Milliseconds')\n",
    "ax.set_ylabel('K')\n",
    "\n",
    "# Add y-tick labels\n",
    "ax.set_yticks(range(1, len(k_values) + 1))\n",
    "ax.set_yticklabels([str(k) for k in k_values])\n",
    "\n",
    "# Show the plot\n",
    "plt.show()\n"
   ]
  },
  {
   "cell_type": "markdown",
   "metadata": {},
   "source": [
    "## Task 3"
   ]
  },
  {
   "cell_type": "code",
   "execution_count": 14,
   "metadata": {},
   "outputs": [],
   "source": [
    "\"\"\"\n",
    "\n",
    "Calculate the Jaccard Index as demonstrated in Week 8, Video 3.\n",
    "\n",
    "\"\"\"\n",
    "def jaccard_index_cw2(y_true, y_pred):\n",
    "    if len(y_true) != len(y_pred):\n",
    "        raise Error #TODO: handle this\n",
    "    \n",
    "    scores = [0, 0, 0]\n",
    "     \n",
    "    for i in range(len(y_true)):\n",
    "        for j in range(i + 1, len(y_pred)):\n",
    "            # SS\n",
    "            if y_true[i] == y_true[j] and y_pred[i] == y_pred[j]:\n",
    "                scores[0] += 1\n",
    "            # SD\n",
    "            elif y_true[i] == y_true[j] and y_pred[i] != y_pred[j]:\n",
    "                scores[1] += 1\n",
    "            # DS\n",
    "            elif y_true[i] != y_true[j] and y_pred[i] == y_pred[j]:\n",
    "                scores[2] += 1\n",
    "    \n",
    "    return scores[0] / sum(scores)\n",
    "        "
   ]
  },
  {
   "cell_type": "markdown",
   "metadata": {},
   "source": [
    "## Task 4"
   ]
  },
  {
   "cell_type": "code",
   "execution_count": 15,
   "metadata": {},
   "outputs": [],
   "source": [
    "\"\"\"\n",
    "\n",
    "Compare true output labels to predicted output labels, and return a 3x3 list of values for the Q4 Dataframe.\n",
    "\n",
    "\"\"\"\n",
    "def get_cluster_values_q4(y_true, y_pred):\n",
    "    \n",
    "    cluster_values = [[0, 0, 0], [0, 0, 0], [0, 0, 0]]\n",
    "\n",
    "    for index in range(len(y_true)):\n",
    "        \n",
    "        cluster = y_pred[index]\n",
    "        label = y_true[index]\n",
    "        \n",
    "        if cluster == 0:\n",
    "            if label == 0:\n",
    "                cluster_values[0][0] += 1\n",
    "            elif label == 1:\n",
    "                cluster_values[0][1] += 1\n",
    "            elif label == 2:\n",
    "                cluster_values[0][2] += 1\n",
    "        \n",
    "        if cluster == 1:\n",
    "            if label == 0:\n",
    "                cluster_values[1][0] += 1\n",
    "            elif label == 1:\n",
    "                cluster_values[1][1] += 1\n",
    "            elif label == 2:\n",
    "                cluster_values[1][2] += 1\n",
    "        \n",
    "        if cluster == 2:\n",
    "            if label == 0:\n",
    "                cluster_values[2][0] += 1\n",
    "            elif label == 1:\n",
    "                cluster_values[2][1] += 1\n",
    "            elif label == 2:\n",
    "                cluster_values[2][2] += 1\n",
    "    \n",
    "    return cluster_values\n"
   ]
  },
  {
   "cell_type": "code",
   "execution_count": 16,
   "metadata": {},
   "outputs": [],
   "source": [
    "\"\"\"\n",
    "\n",
    "Populate and return a Dataframe with the given title and 3x3 list of values.\n",
    "\n",
    "\"\"\"\n",
    "def get_dataframe_q4(title, values):\n",
    "    \n",
    "    data = {title:  ['Cluster 1', 'Cluster 2', 'Cluster 3'],\n",
    "         'Label 1': [values[0][0], values[0][1], values[0][2]],\n",
    "         'Label 2': [values[1][0], values[1][1], values[1][2]],\n",
    "         'Label 3': [values[2][0], values[2][1], values[2][2]]\n",
    "           }\n",
    "    \n",
    "    df = pd.DataFrame(data, columns = [title, 'Label 1', 'Label 2', 'Label 3'])\n",
    "\n",
    "    return df\n"
   ]
  },
  {
   "cell_type": "code",
   "execution_count": 17,
   "metadata": {},
   "outputs": [
    {
     "data": {
      "text/html": [
       "<style  type=\"text/css\" >\n",
       "</style><table id=\"T_08c4be2b_3991_11eb_a905_c82158fca03e\" ><thead>    <tr>        <th class=\"col_heading level0 col0\" >Standard K-Means</th>        <th class=\"col_heading level0 col1\" >Label 1</th>        <th class=\"col_heading level0 col2\" >Label 2</th>        <th class=\"col_heading level0 col3\" >Label 3</th>    </tr></thead><tbody>\n",
       "                <tr>\n",
       "                                <td id=\"T_08c4be2b_3991_11eb_a905_c82158fca03erow0_col0\" class=\"data row0 col0\" >Cluster 1</td>\n",
       "                        <td id=\"T_08c4be2b_3991_11eb_a905_c82158fca03erow0_col1\" class=\"data row0 col1\" >0</td>\n",
       "                        <td id=\"T_08c4be2b_3991_11eb_a905_c82158fca03erow0_col2\" class=\"data row0 col2\" >50</td>\n",
       "                        <td id=\"T_08c4be2b_3991_11eb_a905_c82158fca03erow0_col3\" class=\"data row0 col3\" >0</td>\n",
       "            </tr>\n",
       "            <tr>\n",
       "                                <td id=\"T_08c4be2b_3991_11eb_a905_c82158fca03erow1_col0\" class=\"data row1 col0\" >Cluster 2</td>\n",
       "                        <td id=\"T_08c4be2b_3991_11eb_a905_c82158fca03erow1_col1\" class=\"data row1 col1\" >39</td>\n",
       "                        <td id=\"T_08c4be2b_3991_11eb_a905_c82158fca03erow1_col2\" class=\"data row1 col2\" >0</td>\n",
       "                        <td id=\"T_08c4be2b_3991_11eb_a905_c82158fca03erow1_col3\" class=\"data row1 col3\" >11</td>\n",
       "            </tr>\n",
       "            <tr>\n",
       "                                <td id=\"T_08c4be2b_3991_11eb_a905_c82158fca03erow2_col0\" class=\"data row2 col0\" >Cluster 3</td>\n",
       "                        <td id=\"T_08c4be2b_3991_11eb_a905_c82158fca03erow2_col1\" class=\"data row2 col1\" >14</td>\n",
       "                        <td id=\"T_08c4be2b_3991_11eb_a905_c82158fca03erow2_col2\" class=\"data row2 col2\" >0</td>\n",
       "                        <td id=\"T_08c4be2b_3991_11eb_a905_c82158fca03erow2_col3\" class=\"data row2 col3\" >36</td>\n",
       "            </tr>\n",
       "    </tbody></table>"
      ],
      "text/plain": [
       "<pandas.io.formats.style.Styler at 0x1a9ccd8b250>"
      ]
     },
     "execution_count": 17,
     "metadata": {},
     "output_type": "execute_result"
    }
   ],
   "source": [
    "\"\"\"\n",
    "\n",
    "KMeans Cluster Analysis.\n",
    "\n",
    "\"\"\"\n",
    "\n",
    "data = load_iris()\n",
    "x = data.data\n",
    "y_true = data.target\n",
    "\n",
    "# Preprocessing\n",
    "sc = StandardScaler()\n",
    "sc.fit(x)\n",
    "x = sc.transform(x)\n",
    "\n",
    "# Standard KMeans\n",
    "kmeans = KMeans(n_clusters = 3, random_state = 10)\n",
    "kmeans.fit(x)\n",
    "y_kmeans = kmeans.predict(x)\n",
    "\n",
    "# Analysis\n",
    "cluster_values_kmeans = get_cluster_values_q4(y_true, y_kmeans)\n",
    "df_kmeans = get_dataframe_q4('Standard K-Means', cluster_values_kmeans)\n",
    "\n",
    "# Show the results\n",
    "df_kmeans.style.hide_index()\n"
   ]
  },
  {
   "cell_type": "code",
   "execution_count": 18,
   "metadata": {},
   "outputs": [
    {
     "data": {
      "text/html": [
       "<style  type=\"text/css\" >\n",
       "</style><table id=\"T_08e8aa67_3991_11eb_9ee2_c82158fca03e\" ><thead>    <tr>        <th class=\"col_heading level0 col0\" >Incremental K-Means</th>        <th class=\"col_heading level0 col1\" >Label 1</th>        <th class=\"col_heading level0 col2\" >Label 2</th>        <th class=\"col_heading level0 col3\" >Label 3</th>    </tr></thead><tbody>\n",
       "                <tr>\n",
       "                                <td id=\"T_08e8aa67_3991_11eb_9ee2_c82158fca03erow0_col0\" class=\"data row0 col0\" >Cluster 1</td>\n",
       "                        <td id=\"T_08e8aa67_3991_11eb_9ee2_c82158fca03erow0_col1\" class=\"data row0 col1\" >1</td>\n",
       "                        <td id=\"T_08e8aa67_3991_11eb_9ee2_c82158fca03erow0_col2\" class=\"data row0 col2\" >49</td>\n",
       "                        <td id=\"T_08e8aa67_3991_11eb_9ee2_c82158fca03erow0_col3\" class=\"data row0 col3\" >0</td>\n",
       "            </tr>\n",
       "            <tr>\n",
       "                                <td id=\"T_08e8aa67_3991_11eb_9ee2_c82158fca03erow1_col0\" class=\"data row1 col0\" >Cluster 2</td>\n",
       "                        <td id=\"T_08e8aa67_3991_11eb_9ee2_c82158fca03erow1_col1\" class=\"data row1 col1\" >37</td>\n",
       "                        <td id=\"T_08e8aa67_3991_11eb_9ee2_c82158fca03erow1_col2\" class=\"data row1 col2\" >0</td>\n",
       "                        <td id=\"T_08e8aa67_3991_11eb_9ee2_c82158fca03erow1_col3\" class=\"data row1 col3\" >13</td>\n",
       "            </tr>\n",
       "            <tr>\n",
       "                                <td id=\"T_08e8aa67_3991_11eb_9ee2_c82158fca03erow2_col0\" class=\"data row2 col0\" >Cluster 3</td>\n",
       "                        <td id=\"T_08e8aa67_3991_11eb_9ee2_c82158fca03erow2_col1\" class=\"data row2 col1\" >8</td>\n",
       "                        <td id=\"T_08e8aa67_3991_11eb_9ee2_c82158fca03erow2_col2\" class=\"data row2 col2\" >0</td>\n",
       "                        <td id=\"T_08e8aa67_3991_11eb_9ee2_c82158fca03erow2_col3\" class=\"data row2 col3\" >42</td>\n",
       "            </tr>\n",
       "    </tbody></table>"
      ],
      "text/plain": [
       "<pandas.io.formats.style.Styler at 0x1a9ccd8bb20>"
      ]
     },
     "execution_count": 18,
     "metadata": {},
     "output_type": "execute_result"
    }
   ],
   "source": [
    "# Incremental KMeans\n",
    "y_kmeans_incr, _ = incremental_kmeans(x, k = 3, random_state = 10)\n",
    "\n",
    "# Analysis\n",
    "cluster_values_kmeans_incr = get_cluster_values_q4(y_true, y_kmeans_incr)\n",
    "df_kmeans_incr = get_dataframe_q4('Incremental K-Means', cluster_values_kmeans_incr)\n",
    "\n",
    "# Show the results\n",
    "df_kmeans_incr.style.hide_index()\n"
   ]
  },
  {
   "cell_type": "code",
   "execution_count": 19,
   "metadata": {
    "scrolled": true
   },
   "outputs": [
    {
     "data": {
      "text/html": [
       "<style  type=\"text/css\" >\n",
       "</style><table id=\"T_08f3c539_3991_11eb_a4ff_c82158fca03e\" ><thead>    <tr>        <th class=\"col_heading level0 col0\" >Jaccard Index</th>        <th class=\"col_heading level0 col1\" >Standard KMeans</th>        <th class=\"col_heading level0 col2\" >Incremental KMeans</th>    </tr></thead><tbody>\n",
       "                <tr>\n",
       "                                <td id=\"T_08f3c539_3991_11eb_a4ff_c82158fca03erow0_col0\" class=\"data row0 col0\" >jaccard_index_cw2</td>\n",
       "                        <td id=\"T_08f3c539_3991_11eb_a4ff_c82158fca03erow0_col1\" class=\"data row0 col1\" >0.593892</td>\n",
       "                        <td id=\"T_08f3c539_3991_11eb_a4ff_c82158fca03erow0_col2\" class=\"data row0 col2\" >0.615739</td>\n",
       "            </tr>\n",
       "            <tr>\n",
       "                                <td id=\"T_08f3c539_3991_11eb_a4ff_c82158fca03erow1_col0\" class=\"data row1 col0\" >sklearn.metrics.jaccard_score</td>\n",
       "                        <td id=\"T_08f3c539_3991_11eb_a4ff_c82158fca03erow1_col1\" class=\"data row1 col1\" >0.136364</td>\n",
       "                        <td id=\"T_08f3c539_3991_11eb_a4ff_c82158fca03erow1_col2\" class=\"data row1 col2\" >0.167315</td>\n",
       "            </tr>\n",
       "    </tbody></table>"
      ],
      "text/plain": [
       "<pandas.io.formats.style.Styler at 0x1a9cce64220>"
      ]
     },
     "execution_count": 19,
     "metadata": {},
     "output_type": "execute_result"
    }
   ],
   "source": [
    "\"\"\"\n",
    "\n",
    "Jaccard Index comparison.\n",
    "\n",
    "\"\"\"\n",
    "\n",
    "from sklearn.metrics import jaccard_score\n",
    "\n",
    "# Calculate Jaccard Index (cw2, sklearn) for KMeans results (standard, incremental)\n",
    "jaccard_kmeans_cw2          = jaccard_index_cw2(y_true, y_kmeans)\n",
    "jaccard_kmeans_sklearn      = jaccard_score(y_true, y_kmeans, average = \"micro\")\n",
    "jaccard_kmeans_incr_cw2     = jaccard_index_cw2(y_true, y_kmeans_incr)\n",
    "jaccard_kmeans_incr_sklearn = jaccard_score(y_true, y_kmeans_incr, average = \"micro\")\n",
    "\n",
    "# Build Dataframe for output\n",
    "jaccard_data = {'Jaccard Index':  ['jaccard_index_cw2', 'sklearn.metrics.jaccard_score'],\n",
    "                'Standard KMeans': [jaccard_kmeans_cw2, jaccard_kmeans_sklearn],\n",
    "                'Incremental KMeans': [jaccard_kmeans_incr_cw2, jaccard_kmeans_incr_sklearn]\n",
    "               }\n",
    "df = pd.DataFrame(jaccard_data, columns = ['Jaccard Index', 'Standard KMeans', 'Incremental KMeans'])\n",
    "\n",
    "# Show the results\n",
    "df.style.hide_index()\n"
   ]
  },
  {
   "cell_type": "code",
   "execution_count": 20,
   "metadata": {},
   "outputs": [
    {
     "data": {
      "image/png": "[encoded data removed]",
      "text/plain": [
       "<Figure size 1080x1080 with 2 Axes>"
      ]
     },
     "metadata": {
      "needs_background": "light"
     },
     "output_type": "display_data"
    }
   ],
   "source": [
    "\"\"\"\n",
    "\n",
    "Figure comparing KMeans clustering on two input attributes.\n",
    "\n",
    "\"\"\"\n",
    "\n",
    "from matplotlib.lines import Line2D\n",
    "\n",
    "# Create figure and axes\n",
    "fig = plt.figure()\n",
    "fig.set_figheight(15)\n",
    "fig.set_figwidth(15)\n",
    "\n",
    "ax1 = fig.add_subplot(221)\n",
    "ax2 = fig.add_subplot(222)\n",
    "\n",
    "\n",
    "# Set title and labels for each graph\n",
    "ax1.set_title('Standard K-Means Clustering')\n",
    "ax1.set_xlabel(data.feature_names[0])\n",
    "ax1.set_ylabel(data.feature_names[1])\n",
    "\n",
    "ax2.set_title('Incremental K-Means Clustering')\n",
    "ax2.set_xlabel(data.feature_names[0])\n",
    "ax2.set_ylabel(data.feature_names[1])\n",
    "\n",
    "# Create legend\n",
    "legend_elements = [Line2D([0], [0], marker='o', color = '#28a4a4', label='Cluster 1', markerfacecolor='#28a4a4', markersize=10, lw=0),\n",
    "                   Line2D([0], [0], marker='o', color = '#ffff00', label='Cluster 2', markerfacecolor='#e6e600', markersize=10, lw=0),\n",
    "                   Line2D([0], [0], marker='o', color = '#660066', label='Cluster 3', markerfacecolor='#660066', markersize=10, lw=0)]\n",
    "# Draw legend\n",
    "ax2.legend(handles=legend_elements, loc='upper right', fontsize=\"medium\")\n",
    "\n",
    "# Scatter input attributes, and colour points by cluster\n",
    "ax1.scatter(x[:, 0], x[:, 1], c=y_kmeans, s=50, cmap='viridis')\n",
    "ax2.scatter(x[:, 0], x[:, 1], c=y_kmeans_incr, s=50, cmap='viridis')\n",
    "\n",
    "# Set main title\n",
    "plt.subplots_adjust(top=0.9)\n",
    "plt.gcf().suptitle('Comparison of Standard and Incremental K-Means\\nclustering algorithms against two input attributes', fontsize=12)\n",
    "\n",
    "# Show the figure\n",
    "plt.show()\n"
   ]
  }
 ],
 "metadata": {
  "kernel_info": {
   "name": "python3"
  },
  "kernelspec": {
   "display_name": "Python 3",
   "language": "python",
   "name": "python3"
  },
  "language_info": {
   "codemirror_mode": {
    "name": "ipython",
    "version": 3
   },
   "file_extension": ".py",
   "mimetype": "text/x-python",
   "name": "python",
   "nbconvert_exporter": "python",
   "pygments_lexer": "ipython3",
   "version": "3.8.3"
  },
  "nteract": {
   "version": "0.15.0"
  }
 },
 "nbformat": 4,
 "nbformat_minor": 2
}
